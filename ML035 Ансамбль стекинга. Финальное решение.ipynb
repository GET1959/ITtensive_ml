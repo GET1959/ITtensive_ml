{
 "cells": [
  {
   "cell_type": "markdown",
   "metadata": {},
   "source": [
    "## Ансамбль стекинга. Финальное решение."
   ]
  },
  {
   "cell_type": "markdown",
   "metadata": {},
   "source": [
    "### Описание задания\n",
    "Загрузите данные, приведите их к числовым, заполните пропуски, нормализуйте данные и оптимизируйте память.\n",
    "\n",
    "Сформируйте параллельный ансамбль из CatBoost, градиентного бустинга, XGBoost и LightGBM. Используйте лучшие гиперпараметры, подобранные ранее, или найдите их через перекрестную проверку. Итоговое решение рассчитайте на основании самого точного предсказания класса у определенной модели ансамбля: выберите для каждого класса модель, которая предсказывает его лучше всего.\n",
    "\n",
    "Проведите расчеты и выгрузите результат в виде submission.csv\n",
    "\n",
    "Данные:\n",
    "* video.ittensive.com/machine-learning/prudential/train.csv.gz\n",
    "* video.ittensive.com/machine-learning/prudential/test.csv.gz\n",
    "* video.ittensive.com/machine-learning/prudential/sample_submission.csv.gz"
   ]
  },
  {
   "cell_type": "code",
   "execution_count": 29,
   "metadata": {},
   "outputs": [],
   "source": [
    "# Импортируем необходимые библиотеки\n",
    "\n",
    "import pandas as pd\n",
    "import numpy as np\n",
    "from sklearn.model_selection import train_test_split\n",
    "from sklearn.metrics import cohen_kappa_score, confusion_matrix, make_scorer\n",
    "from catboost import CatBoostClassifier\n",
    "from sklearn.ensemble import GradientBoostingClassifier\n",
    "from xgboost import XGBClassifier\n",
    "import lightgbm as lgb\n",
    "from sklearn import preprocessing"
   ]
  },
  {
   "cell_type": "code",
   "execution_count": 30,
   "metadata": {},
   "outputs": [
    {
     "name": "stdout",
     "output_type": "stream",
     "text": [
      "<class 'pandas.core.frame.DataFrame'>\n",
      "RangeIndex: 59381 entries, 0 to 59380\n",
      "Columns: 128 entries, Id to Response\n",
      "dtypes: float64(18), int64(109), object(1)\n",
      "memory usage: 58.0+ MB\n",
      "None\n"
     ]
    }
   ],
   "source": [
    "# Получаем данные по ссылке, сохраняем в переменной data\n",
    "\n",
    "data = pd.read_csv(\"https://video.ittensive.com/machine-learning/prudential/train.csv.gz\")\n",
    "print (data.info())"
   ]
  },
  {
   "cell_type": "code",
   "execution_count": 31,
   "metadata": {},
   "outputs": [],
   "source": [
    "# Приводим параметры к числовым значениям\n",
    "\n",
    "data[\"Product_Info_2_1\"] = data[\"Product_Info_2\"].str.slice(0, 1)\n",
    "data[\"Product_Info_2_2\"] = pd.to_numeric(data[\"Product_Info_2\"].str.slice(1, 2))\n",
    "data.drop(labels=[\"Product_Info_2\"], axis=1, inplace=True)\n",
    "for l in data[\"Product_Info_2_1\"].unique():\n",
    "    data[\"Product_Info_2_1\" + l] = data[\"Product_Info_2_1\"].isin([l]).astype(\"int8\")\n",
    "data.drop(labels=[\"Product_Info_2_1\"], axis=1, inplace=True)\n",
    "data.fillna(value=-1, inplace=True)\n",
    "data[\"Response\"] = data[\"Response\"] - 1"
   ]
  },
  {
   "cell_type": "code",
   "execution_count": 32,
   "metadata": {},
   "outputs": [
    {
     "name": "stdout",
     "output_type": "stream",
     "text": [
      "['Wt', 'Ht', 'Ins_Age', 'BMI', 'Insurance_History_1', 'Insurance_History_2', 'Insurance_History_3', 'Insurance_History_4', 'Insurance_History_5', 'Insurance_History_7', 'Insurance_History_8', 'Insurance_History_9', 'Medical_Keyword_1', 'Medical_Keyword_2', 'Medical_Keyword_3', 'Medical_Keyword_4', 'Medical_Keyword_5', 'Medical_Keyword_6', 'Medical_Keyword_7', 'Medical_Keyword_8', 'Medical_Keyword_9', 'Medical_Keyword_10', 'Medical_Keyword_11', 'Medical_Keyword_12', 'Medical_Keyword_13', 'Medical_Keyword_14', 'Medical_Keyword_15', 'Medical_Keyword_16', 'Medical_Keyword_17', 'Medical_Keyword_18', 'Medical_Keyword_19', 'Medical_Keyword_20', 'Medical_Keyword_21', 'Medical_Keyword_22', 'Medical_Keyword_23', 'Medical_Keyword_24', 'Medical_Keyword_25', 'Medical_Keyword_26', 'Medical_Keyword_27', 'Medical_Keyword_28', 'Medical_Keyword_29', 'Medical_Keyword_30', 'Medical_Keyword_31', 'Medical_Keyword_32', 'Medical_Keyword_33', 'Medical_Keyword_34', 'Medical_Keyword_35', 'Medical_Keyword_36', 'Medical_Keyword_37', 'Medical_Keyword_38', 'Medical_Keyword_39', 'Medical_Keyword_40', 'Medical_Keyword_41', 'Medical_Keyword_42', 'Medical_Keyword_43', 'Medical_Keyword_44', 'Medical_Keyword_45', 'Medical_Keyword_46', 'Medical_Keyword_47', 'Medical_Keyword_48', 'Family_Hist_1', 'Family_Hist_2', 'Family_Hist_3', 'Family_Hist_4', 'Family_Hist_5', 'Medical_History_1', 'Medical_History_2', 'Medical_History_3', 'Medical_History_4', 'Medical_History_5', 'Medical_History_6', 'Medical_History_7', 'Medical_History_8', 'Medical_History_9', 'Medical_History_10', 'Medical_History_11', 'Medical_History_12', 'Medical_History_13', 'Medical_History_14', 'Medical_History_15', 'Medical_History_16', 'Medical_History_17', 'Medical_History_18', 'Medical_History_19', 'Medical_History_20', 'Medical_History_21', 'Medical_History_22', 'Medical_History_23', 'Medical_History_24', 'Medical_History_25', 'Medical_History_26', 'Medical_History_27', 'Medical_History_28', 'Medical_History_29', 'Medical_History_30', 'Medical_History_31', 'Medical_History_32', 'Medical_History_33', 'Medical_History_34', 'Medical_History_35', 'Medical_History_36', 'Medical_History_37', 'Medical_History_38', 'Medical_History_39', 'Medical_History_40', 'Medical_History_41', 'Product_Info_1', 'Product_Info_3', 'Product_Info_4', 'Product_Info_5', 'Product_Info_6', 'Product_Info_7', 'Product_Info_2_2', 'Product_Info_2_1D', 'Product_Info_2_1A', 'Product_Info_2_1E', 'Product_Info_2_1C', 'Product_Info_2_1B']\n"
     ]
    }
   ],
   "source": [
    "# Создаем список параметров для обучения модели\n",
    "\n",
    "columns_groups = [\"Insurance_History\", \"InsurеdInfo\", \"Medical_Keyword\",\n",
    "                  \"Family_Hist\", \"Medical_History\", \"Product_Info\"]\n",
    "columns = [\"Wt\", \"Ht\", \"Ins_Age\", \"BMI\"]\n",
    "for cg in columns_groups:\n",
    "    columns.extend(data.columns[data.columns.str.startswith(cg)])\n",
    "print (columns)"
   ]
  },
  {
   "cell_type": "code",
   "execution_count": 33,
   "metadata": {},
   "outputs": [
    {
     "name": "stdout",
     "output_type": "stream",
     "text": [
      "<class 'pandas.core.frame.DataFrame'>\n",
      "RangeIndex: 59381 entries, 0 to 59380\n",
      "Columns: 119 entries, 0 to Response\n",
      "dtypes: float64(118), int64(1)\n",
      "memory usage: 53.9 MB\n",
      "None\n"
     ]
    }
   ],
   "source": [
    "# Нормируем данные по отношению к среднему значению, сохраняем полученную структуру в переменной data_transformed\n",
    "\n",
    "scaler = preprocessing.StandardScaler()\n",
    "data_transformed = pd.DataFrame(scaler.fit_transform(pd.DataFrame(data,\n",
    "                                                     columns=columns)))\n",
    "columns_transformed = data_transformed.columns\n",
    "data_transformed[\"Response\"] = data[\"Response\"]\n",
    "print(data_transformed.info())"
   ]
  },
  {
   "cell_type": "code",
   "execution_count": 34,
   "metadata": {},
   "outputs": [],
   "source": [
    "# Определяем функцию оптимизации потребления памяти\n",
    "\n",
    "def reduce_mem_usage (df):\n",
    "    start_mem = df.memory_usage().sum() / 1024**2    \n",
    "    for col in df.columns:\n",
    "        col_type = df[col].dtypes\n",
    "        if str(col_type)[:5] == \"float\":\n",
    "            c_min = df[col].min()\n",
    "            c_max = df[col].max()\n",
    "            if c_min > np.finfo(\"f2\").min and c_max < np.finfo(\"f2\").max:\n",
    "                df[col] = df[col].astype(np.float16)\n",
    "            elif c_min > np.finfo(\"f4\").min and c_max < np.finfo(\"f4\").max:\n",
    "                df[col] = df[col].astype(np.float32)\n",
    "            else:\n",
    "                df[col] = df[col].astype(np.float64)\n",
    "        elif str(col_type)[:3] == \"int\":\n",
    "            c_min = df[col].min()\n",
    "            c_max = df[col].max()\n",
    "            if c_min > np.iinfo(\"i1\").min and c_max < np.iinfo(\"i1\").max:\n",
    "                df[col] = df[col].astype(np.int8)\n",
    "            elif c_min > np.iinfo(\"i2\").min and c_max < np.iinfo(\"i2\").max:\n",
    "                df[col] = df[col].astype(np.int16)\n",
    "            elif c_min > np.iinfo(\"i4\").min and c_max < np.iinfo(\"i4\").max:\n",
    "                df[col] = df[col].astype(np.int32)\n",
    "            elif c_min > np.iinfo(\"i8\").min and c_max < np.iinfo(\"i8\").max:\n",
    "                df[col] = df[col].astype(np.int64)\n",
    "        else:\n",
    "            df[col] = df[col].astype(\"category\")\n",
    "    end_mem = df.memory_usage().sum() / 1024**2\n",
    "    print('Потребление памяти меньше на', round(start_mem - end_mem, 2), 'Мб (минус', round(100 * (start_mem - end_mem) / start_mem, 1), '%)')\n",
    "    return df"
   ]
  },
  {
   "cell_type": "code",
   "execution_count": 35,
   "metadata": {},
   "outputs": [
    {
     "name": "stdout",
     "output_type": "stream",
     "text": [
      "Потребление памяти меньше на 40.49 Мб (минус 75.1 %)\n",
      "<class 'pandas.core.frame.DataFrame'>\n",
      "RangeIndex: 59381 entries, 0 to 59380\n",
      "Columns: 119 entries, 0 to Response\n",
      "dtypes: float16(118), int8(1)\n",
      "memory usage: 13.4 MB\n",
      "None\n"
     ]
    }
   ],
   "source": [
    "# оптимизируем потребление памяти\n",
    "\n",
    "data_transformed = reduce_mem_usage(data_transformed)\n",
    "print (data_transformed.info())"
   ]
  },
  {
   "cell_type": "markdown",
   "metadata": {},
   "source": [
    "### Построение базовых моделей."
   ]
  },
  {
   "cell_type": "code",
   "execution_count": 36,
   "metadata": {},
   "outputs": [],
   "source": [
    "# сохраняем структуру данных для обучения в переменной х\n",
    "\n",
    "x = pd.DataFrame(data_transformed, columns=columns_transformed)"
   ]
  },
  {
   "cell_type": "code",
   "execution_count": 37,
   "metadata": {},
   "outputs": [
    {
     "name": "stdout",
     "output_type": "stream",
     "text": [
      "0:\tlearn: 1.5334059\ttotal: 39.6ms\tremaining: 3.92s\n",
      "1:\tlearn: 1.4360528\ttotal: 109ms\tremaining: 5.35s\n",
      "2:\tlearn: 1.3401902\ttotal: 204ms\tremaining: 6.61s\n",
      "3:\tlearn: 1.3074440\ttotal: 304ms\tremaining: 7.3s\n",
      "4:\tlearn: 1.2897825\ttotal: 411ms\tremaining: 7.81s\n",
      "5:\tlearn: 1.2699052\ttotal: 532ms\tremaining: 8.33s\n",
      "6:\tlearn: 1.2580956\ttotal: 616ms\tremaining: 8.19s\n",
      "7:\tlearn: 1.2433300\ttotal: 704ms\tremaining: 8.09s\n",
      "8:\tlearn: 1.2384292\ttotal: 787ms\tremaining: 7.95s\n",
      "9:\tlearn: 1.2327742\ttotal: 871ms\tremaining: 7.84s\n",
      "10:\tlearn: 1.2278178\ttotal: 971ms\tremaining: 7.86s\n",
      "11:\tlearn: 1.2228948\ttotal: 1.06s\tremaining: 7.78s\n",
      "12:\tlearn: 1.2177607\ttotal: 1.16s\tremaining: 7.76s\n",
      "13:\tlearn: 1.2083812\ttotal: 1.22s\tremaining: 7.5s\n",
      "14:\tlearn: 1.2065373\ttotal: 1.31s\tremaining: 7.44s\n",
      "15:\tlearn: 1.2028399\ttotal: 1.43s\tremaining: 7.5s\n",
      "16:\tlearn: 1.1987273\ttotal: 1.53s\tremaining: 7.49s\n",
      "17:\tlearn: 1.1901642\ttotal: 1.6s\tremaining: 7.3s\n",
      "18:\tlearn: 1.1882665\ttotal: 1.71s\tremaining: 7.3s\n",
      "19:\tlearn: 1.1813592\ttotal: 1.81s\tremaining: 7.25s\n",
      "20:\tlearn: 1.1777505\ttotal: 1.88s\tremaining: 7.09s\n",
      "21:\tlearn: 1.1715449\ttotal: 1.98s\tremaining: 7.03s\n",
      "22:\tlearn: 1.1672787\ttotal: 2.06s\tremaining: 6.9s\n",
      "23:\tlearn: 1.1635536\ttotal: 2.14s\tremaining: 6.78s\n",
      "24:\tlearn: 1.1607412\ttotal: 2.23s\tremaining: 6.7s\n",
      "25:\tlearn: 1.1560497\ttotal: 2.33s\tremaining: 6.63s\n",
      "26:\tlearn: 1.1519539\ttotal: 2.39s\tremaining: 6.47s\n",
      "27:\tlearn: 1.1488680\ttotal: 2.51s\tremaining: 6.45s\n",
      "28:\tlearn: 1.1434505\ttotal: 2.6s\tremaining: 6.36s\n",
      "29:\tlearn: 1.1387202\ttotal: 2.67s\tremaining: 6.23s\n",
      "30:\tlearn: 1.1358864\ttotal: 2.75s\tremaining: 6.11s\n",
      "31:\tlearn: 1.1330215\ttotal: 2.84s\tremaining: 6.03s\n",
      "32:\tlearn: 1.1299297\ttotal: 2.92s\tremaining: 5.92s\n",
      "33:\tlearn: 1.1270398\ttotal: 3.01s\tremaining: 5.84s\n",
      "34:\tlearn: 1.1250661\ttotal: 3.08s\tremaining: 5.73s\n",
      "35:\tlearn: 1.1231866\ttotal: 3.15s\tremaining: 5.59s\n",
      "36:\tlearn: 1.1210354\ttotal: 3.23s\tremaining: 5.5s\n",
      "37:\tlearn: 1.1190657\ttotal: 3.31s\tremaining: 5.4s\n",
      "38:\tlearn: 1.1168319\ttotal: 3.37s\tremaining: 5.27s\n",
      "39:\tlearn: 1.1140206\ttotal: 3.46s\tremaining: 5.18s\n",
      "40:\tlearn: 1.1104796\ttotal: 3.57s\tremaining: 5.13s\n",
      "41:\tlearn: 1.1081168\ttotal: 3.64s\tremaining: 5.03s\n",
      "42:\tlearn: 1.1059096\ttotal: 3.72s\tremaining: 4.93s\n",
      "43:\tlearn: 1.1038280\ttotal: 3.82s\tremaining: 4.86s\n",
      "44:\tlearn: 1.1024654\ttotal: 3.9s\tremaining: 4.77s\n",
      "45:\tlearn: 1.1001898\ttotal: 3.98s\tremaining: 4.67s\n",
      "46:\tlearn: 1.0982738\ttotal: 4.05s\tremaining: 4.57s\n",
      "47:\tlearn: 1.0962531\ttotal: 4.13s\tremaining: 4.48s\n",
      "48:\tlearn: 1.0945213\ttotal: 4.23s\tremaining: 4.4s\n",
      "49:\tlearn: 1.0924746\ttotal: 4.32s\tremaining: 4.32s\n",
      "50:\tlearn: 1.0907421\ttotal: 4.4s\tremaining: 4.23s\n",
      "51:\tlearn: 1.0885931\ttotal: 4.47s\tremaining: 4.12s\n",
      "52:\tlearn: 1.0868252\ttotal: 4.56s\tremaining: 4.04s\n",
      "53:\tlearn: 1.0857244\ttotal: 4.69s\tremaining: 4s\n",
      "54:\tlearn: 1.0833221\ttotal: 4.75s\tremaining: 3.89s\n",
      "55:\tlearn: 1.0817175\ttotal: 4.85s\tremaining: 3.81s\n",
      "56:\tlearn: 1.0808037\ttotal: 4.93s\tremaining: 3.72s\n",
      "57:\tlearn: 1.0788758\ttotal: 5.03s\tremaining: 3.64s\n",
      "58:\tlearn: 1.0777605\ttotal: 5.08s\tremaining: 3.53s\n",
      "59:\tlearn: 1.0760773\ttotal: 5.15s\tremaining: 3.43s\n",
      "60:\tlearn: 1.0754562\ttotal: 5.23s\tremaining: 3.34s\n",
      "61:\tlearn: 1.0744241\ttotal: 5.34s\tremaining: 3.27s\n",
      "62:\tlearn: 1.0719147\ttotal: 5.46s\tremaining: 3.21s\n",
      "63:\tlearn: 1.0704432\ttotal: 5.52s\tremaining: 3.1s\n",
      "64:\tlearn: 1.0691515\ttotal: 5.61s\tremaining: 3.02s\n",
      "65:\tlearn: 1.0676893\ttotal: 5.67s\tremaining: 2.92s\n",
      "66:\tlearn: 1.0662783\ttotal: 5.75s\tremaining: 2.83s\n",
      "67:\tlearn: 1.0645950\ttotal: 5.83s\tremaining: 2.74s\n",
      "68:\tlearn: 1.0624909\ttotal: 5.91s\tremaining: 2.65s\n",
      "69:\tlearn: 1.0599231\ttotal: 6s\tremaining: 2.57s\n",
      "70:\tlearn: 1.0586433\ttotal: 6.18s\tremaining: 2.52s\n",
      "71:\tlearn: 1.0567098\ttotal: 6.25s\tremaining: 2.43s\n",
      "72:\tlearn: 1.0555697\ttotal: 6.3s\tremaining: 2.33s\n",
      "73:\tlearn: 1.0544183\ttotal: 6.36s\tremaining: 2.23s\n",
      "74:\tlearn: 1.0532286\ttotal: 6.45s\tremaining: 2.15s\n",
      "75:\tlearn: 1.0521563\ttotal: 6.54s\tremaining: 2.06s\n",
      "76:\tlearn: 1.0504965\ttotal: 6.64s\tremaining: 1.98s\n",
      "77:\tlearn: 1.0482698\ttotal: 6.74s\tremaining: 1.9s\n",
      "78:\tlearn: 1.0465920\ttotal: 6.86s\tremaining: 1.82s\n",
      "79:\tlearn: 1.0450963\ttotal: 6.94s\tremaining: 1.74s\n",
      "80:\tlearn: 1.0442847\ttotal: 7.02s\tremaining: 1.65s\n",
      "81:\tlearn: 1.0424185\ttotal: 7.11s\tremaining: 1.56s\n",
      "82:\tlearn: 1.0411543\ttotal: 7.19s\tremaining: 1.47s\n",
      "83:\tlearn: 1.0392687\ttotal: 7.28s\tremaining: 1.39s\n",
      "84:\tlearn: 1.0379409\ttotal: 7.39s\tremaining: 1.3s\n",
      "85:\tlearn: 1.0369000\ttotal: 7.46s\tremaining: 1.22s\n",
      "86:\tlearn: 1.0365694\ttotal: 7.56s\tremaining: 1.13s\n",
      "87:\tlearn: 1.0350130\ttotal: 7.66s\tremaining: 1.04s\n",
      "88:\tlearn: 1.0332650\ttotal: 7.74s\tremaining: 957ms\n",
      "89:\tlearn: 1.0309649\ttotal: 7.81s\tremaining: 867ms\n",
      "90:\tlearn: 1.0304438\ttotal: 7.88s\tremaining: 779ms\n",
      "91:\tlearn: 1.0303869\ttotal: 7.94s\tremaining: 691ms\n",
      "92:\tlearn: 1.0285613\ttotal: 8.03s\tremaining: 604ms\n",
      "93:\tlearn: 1.0271240\ttotal: 8.14s\tremaining: 520ms\n",
      "94:\tlearn: 1.0264241\ttotal: 8.23s\tremaining: 433ms\n",
      "95:\tlearn: 1.0249912\ttotal: 8.3s\tremaining: 346ms\n",
      "96:\tlearn: 1.0237073\ttotal: 8.38s\tremaining: 259ms\n",
      "97:\tlearn: 1.0225453\ttotal: 8.47s\tremaining: 173ms\n",
      "98:\tlearn: 1.0215287\ttotal: 8.58s\tremaining: 86.7ms\n",
      "99:\tlearn: 1.0203774\ttotal: 8.71s\tremaining: 0us\n"
     ]
    },
    {
     "data": {
      "text/plain": [
       "<catboost.core.CatBoostClassifier at 0x2598325b1f0>"
      ]
     },
     "execution_count": 37,
     "metadata": {},
     "output_type": "execute_result"
    }
   ],
   "source": [
    "# CatBoost. Оптимальные параметры learning_rate=0.56, l2_leaf_reg=1, depth=6 были получены ранее методом grid_search()\n",
    "\n",
    "model_catboost = CatBoostClassifier(iterations=100, learning_rate=0.56,\n",
    "                random_seed=17, l2_leaf_reg=1, depth=6, loss_function=\"MultiClass\",\n",
    "                bootstrap_type=\"MVS\", custom_metric=\"WKappa\")\n",
    "model_catboost.fit(x, data_transformed[\"Response\"])"
   ]
  },
  {
   "cell_type": "code",
   "execution_count": 38,
   "metadata": {},
   "outputs": [
    {
     "data": {
      "text/plain": [
       "GradientBoostingClassifier(max_depth=14, max_features=27, min_samples_leaf=20,\n",
       "                           n_estimators=76, random_state=17)"
      ]
     },
     "execution_count": 38,
     "metadata": {},
     "output_type": "execute_result"
    }
   ],
   "source": [
    "# GradientBoosting\n",
    "model_GB = GradientBoostingClassifier(random_state=17, max_depth=14,\n",
    "                max_features=27, min_samples_leaf=20, n_estimators=76)\n",
    "model_GB.fit(x, data_transformed[\"Response\"])"
   ]
  },
  {
   "cell_type": "code",
   "execution_count": 39,
   "metadata": {},
   "outputs": [
    {
     "name": "stdout",
     "output_type": "stream",
     "text": [
      "[17:04:59] WARNING: C:/Users/Administrator/workspace/xgboost-win64_release_1.3.0/src/learner.cc:541: \n",
      "Parameters: { max_features, min_samples_leaf } might not be used.\n",
      "\n",
      "  This may not be accurate due to some parameters are only used in language bindings but\n",
      "  passed down to XGBoost core.  Or some parameters are not used but slip through this\n",
      "  verification. Please open an issue if you find above cases.\n",
      "\n",
      "\n",
      "[17:04:59] WARNING: C:/Users/Administrator/workspace/xgboost-win64_release_1.3.0/src/learner.cc:1061: Starting in XGBoost 1.3.0, the default evaluation metric used with the objective 'multi:softprob' was changed from 'merror' to 'mlogloss'. Explicitly set eval_metric if you'd like to restore the old behavior.\n"
     ]
    },
    {
     "data": {
      "text/plain": [
       "XGBClassifier(base_score=0.5, booster='gbtree', colsample_bylevel=1,\n",
       "              colsample_bynode=1, colsample_bytree=1, gamma=0, gpu_id=-1,\n",
       "              importance_type='gain', interaction_constraints='',\n",
       "              learning_rate=0.300000012, max_delta_step=0, max_depth=17,\n",
       "              max_features=27, min_child_weight=1, min_samples_leaf=20,\n",
       "              missing=nan, monotone_constraints='()', n_estimators=76,\n",
       "              n_jobs=12, num_parallel_tree=1, objective='multi:softprob',\n",
       "              random_state=0, reg_alpha=0, reg_lambda=1, scale_pos_weight=None,\n",
       "              subsample=1, tree_method='exact', use_label_encoder=False,\n",
       "              validate_parameters=1, verbosity=None)"
      ]
     },
     "execution_count": 39,
     "metadata": {},
     "output_type": "execute_result"
    }
   ],
   "source": [
    "# XGBoost\n",
    "model_XGB = XGBClassifier(max_depth=17, max_features=27,\n",
    "                     n_estimators=76, min_samples_leaf=20, use_label_encoder=False)\n",
    "model_XGB.fit(x, data_transformed[\"Response\"])"
   ]
  },
  {
   "cell_type": "code",
   "execution_count": 40,
   "metadata": {},
   "outputs": [
    {
     "data": {
      "text/plain": [
       "LGBMRegressor(max_depth=18, min_child_samples=19, num_class=8, num_leaves=34,\n",
       "              objective='multiclass', random_state=17)"
      ]
     },
     "execution_count": 40,
     "metadata": {},
     "output_type": "execute_result"
    }
   ],
   "source": [
    "# LightGBM\n",
    "model_LGBM = lgb.LGBMRegressor(random_state=17, max_depth=18,\n",
    "                min_child_samples=19, num_leaves=34,\n",
    "                objective=\"multiclass\", num_class=8)\n",
    "model_LGBM.fit(x, data_transformed[\"Response\"])"
   ]
  },
  {
   "cell_type": "code",
   "execution_count": 41,
   "metadata": {},
   "outputs": [],
   "source": [
    "# получаем по ссылке данные для тестирования и сохраняем их в переменной data_test\n",
    "\n",
    "data_test = pd.read_csv(\"https://video.ittensive.com/machine-learning/prudential/test.csv.gz\")\n"
   ]
  },
  {
   "cell_type": "code",
   "execution_count": 42,
   "metadata": {},
   "outputs": [],
   "source": [
    "# приводим параметры к числовым значениям\n",
    "\n",
    "data_test[\"Product_Info_2_1\"] = data_test[\"Product_Info_2\"].str.slice(0, 1)\n",
    "data_test[\"Product_Info_2_2\"] = pd.to_numeric(data_test[\"Product_Info_2\"].str.slice(1, 2))\n",
    "data_test.drop(labels=[\"Product_Info_2\"], axis=1, inplace=True)\n",
    "for l in data_test[\"Product_Info_2_1\"].unique():\n",
    "    data_test[\"Product_Info_2_1\" + l] = data_test[\"Product_Info_2_1\"].isin([l]).astype(\"int8\")\n",
    "data_test.drop(labels=[\"Product_Info_2_1\"], axis=1, inplace=True)\n",
    "data_test.fillna(value=-1, inplace=True)\n"
   ]
  },
  {
   "cell_type": "code",
   "execution_count": 43,
   "metadata": {},
   "outputs": [
    {
     "name": "stdout",
     "output_type": "stream",
     "text": [
      "Потребление памяти меньше на 16.34 Мб (минус 84.9 %)\n",
      "<class 'pandas.core.frame.DataFrame'>\n",
      "RangeIndex: 19765 entries, 0 to 19764\n",
      "Columns: 118 entries, 0 to 117\n",
      "dtypes: float32(118)\n",
      "memory usage: 8.9 MB\n",
      "None\n"
     ]
    }
   ],
   "source": [
    "# оптимизируем потребление памяти для тестовых данных\n",
    "\n",
    "data_test = reduce_mem_usage(data_test)\n",
    "data_test_transformed = pd.DataFrame(scaler.transform(pd.DataFrame(data_test,\n",
    "                                            columns=columns)))\n",
    "print (data_test_transformed.info())"
   ]
  },
  {
   "cell_type": "code",
   "execution_count": 44,
   "metadata": {},
   "outputs": [],
   "source": [
    "# создаем структуру для тестирования и сохраняем ее в переменной х_test\n",
    "\n",
    "x_test = pd.DataFrame(data_test_transformed, columns=columns_transformed)"
   ]
  },
  {
   "cell_type": "code",
   "execution_count": 45,
   "metadata": {},
   "outputs": [],
   "source": [
    "# оцениваем вероятность для каждого класса (Response от 1 до 8) для модели CatBoost\n",
    "data_test_catboost_proba = pd.DataFrame(model_catboost.predict_proba(x_test))"
   ]
  },
  {
   "cell_type": "code",
   "execution_count": 46,
   "metadata": {},
   "outputs": [],
   "source": [
    "# оцениваем вероятность для каждого класса (Response от 1 до 8) для модели GradientBoosting\n",
    "data_test_GB_proba = pd.DataFrame(model_GB.predict_proba(x_test))"
   ]
  },
  {
   "cell_type": "code",
   "execution_count": 47,
   "metadata": {},
   "outputs": [],
   "source": [
    "# оцениваем вероятность для каждого класса (Response от 1 до 8) для модели XGBoost\n",
    "data_test_XGB_proba = pd.DataFrame(model_XGB.predict_proba(x_test))"
   ]
  },
  {
   "cell_type": "code",
   "execution_count": 48,
   "metadata": {},
   "outputs": [],
   "source": [
    "# получаем предсказание для каждого класса (Response от 1 до 8) для модели LightGBM\n",
    "data_test_LGBM = pd.DataFrame(model_LGBM.predict(x_test))"
   ]
  },
  {
   "cell_type": "code",
   "execution_count": 49,
   "metadata": {},
   "outputs": [],
   "source": [
    "# создаем функцию для определения класса экспертным голосованием\n",
    "def vote_class (x):\n",
    "    a = np.argmax(x.values)\n",
    "    return a"
   ]
  },
  {
   "cell_type": "code",
   "execution_count": 50,
   "metadata": {},
   "outputs": [
    {
     "name": "stdout",
     "output_type": "stream",
     "text": [
      "0        1\n",
      "1        8\n",
      "2        6\n",
      "3        7\n",
      "4        8\n",
      "        ..\n",
      "19760    8\n",
      "19761    7\n",
      "19762    6\n",
      "19763    2\n",
      "19764    4\n",
      "Name: Response, Length: 19765, dtype: int64\n"
     ]
    }
   ],
   "source": [
    "# переменная data_test_proba определяет максимальные вероятности предсказания класса среди моделей\n",
    "\n",
    "clf_list = [data_test_catboost_proba, data_test_GB_proba, data_test_XGB_proba, data_test_LGBM]\n",
    "\n",
    "data_test_proba = np.amax(clf_list, axis=0)\n",
    "\n",
    "data_test_proba = pd.DataFrame(data_test_proba)\n",
    "\n",
    "data_test_transformed[\"Response\"] = data_test_proba.apply(vote_class, axis=1) + 1\n",
    "print(data_test_transformed[\"Response\"])"
   ]
  },
  {
   "cell_type": "code",
   "execution_count": 51,
   "metadata": {},
   "outputs": [
    {
     "name": "stdout",
     "output_type": "stream",
     "text": [
      "   Id  Response\n",
      "0   1         8\n",
      "1   3         8\n",
      "2   4         8\n",
      "3   9         8\n",
      "4  12         8\n"
     ]
    }
   ],
   "source": [
    "# получаем по ссылке шаблон для отчета\n",
    "submission = pd.read_csv(\"https://video.ittensive.com/machine-learning/prudential/sample_submission.csv.gz\")\n",
    "print (submission.head())"
   ]
  },
  {
   "cell_type": "code",
   "execution_count": 52,
   "metadata": {},
   "outputs": [
    {
     "name": "stdout",
     "output_type": "stream",
     "text": [
      "   Id  Response\n",
      "0   1         1\n",
      "1   3         8\n",
      "2   4         6\n",
      "3   9         7\n",
      "4  12         8\n"
     ]
    }
   ],
   "source": [
    "# вводим результат в отчет\n",
    "submission[\"Response\"] = data_test_transformed[\"Response\"].astype(\"int8\")\n",
    "print (submission.head())"
   ]
  },
  {
   "cell_type": "code",
   "execution_count": 53,
   "metadata": {},
   "outputs": [],
   "source": [
    "# сохраняем отчет в файле csv\n",
    "submission.to_csv(\"submission.csv\", index=False)"
   ]
  },
  {
   "cell_type": "code",
   "execution_count": null,
   "metadata": {},
   "outputs": [],
   "source": []
  }
 ],
 "metadata": {
  "kernelspec": {
   "display_name": "Python 3",
   "language": "python",
   "name": "python3"
  },
  "language_info": {
   "codemirror_mode": {
    "name": "ipython",
    "version": 3
   },
   "file_extension": ".py",
   "mimetype": "text/x-python",
   "name": "python",
   "nbconvert_exporter": "python",
   "pygments_lexer": "ipython3",
   "version": "3.8.5"
  }
 },
 "nbformat": 4,
 "nbformat_minor": 4
}
